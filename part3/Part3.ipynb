{
  "nbformat": 4,
  "nbformat_minor": 0,
  "metadata": {
    "colab": {
      "name": "Part3.ipynb",
      "provenance": []
    },
    "kernelspec": {
      "name": "python3",
      "display_name": "Python 3"
    },
    "language_info": {
      "name": "python"
    }
  },
  "cells": [
    {
      "cell_type": "code",
      "metadata": {
        "id": "FTZDpaPN8elq"
      },
      "source": [
        "import numpy as np\n",
        "import pandas as pd\n",
        "from collections import Counter\n",
        "\n",
        "from sklearn.model_selection import train_test_split\n",
        "\n",
        "from sklearn.preprocessing import StandardScaler\n",
        "from sklearn.preprocessing import MinMaxScaler\n",
        "\n",
        "from sklearn.neighbors import KNeighborsClassifier\n",
        "from sklearn.linear_model import LogisticRegression\n",
        "from sklearn.svm import SVC\n",
        "from sklearn.tree import DecisionTreeClassifier\n",
        "from sklearn.ensemble import VotingClassifier\n",
        "\n",
        "import matplotlib.pyplot as plt\n",
        "\n",
        "from sklearn.metrics import accuracy_score"
      ],
      "execution_count": 1,
      "outputs": []
    },
    {
      "cell_type": "code",
      "metadata": {
        "id": "N-zKw7dBBAqA"
      },
      "source": [
        "def Accuracy(y_true,y_pred):\n",
        "    \"\"\"\n",
        "    :type y_true: numpy.ndarray\n",
        "    :type y_pred: numpy.ndarray\n",
        "    :rtype: float\n",
        "    \n",
        "    \"\"\"\n",
        "    return np.sum(y_true == y_pred) / len(y_pred)"
      ],
      "execution_count": 2,
      "outputs": []
    },
    {
      "cell_type": "code",
      "metadata": {
        "id": "P5CzBOCBBR2O"
      },
      "source": [
        "def Recall(y_true,y_pred):\n",
        "    \"\"\"\n",
        "    :type y_true: numpy.ndarray\n",
        "    :type y_pred: numpy.ndarray\n",
        "    :rtype: float\n",
        "    \"\"\"\n",
        "\n",
        "    # labels = []\n",
        "    # for i in y_true:\n",
        "    #     if i not in labels:\n",
        "    #         label_num.append(i)\n",
        "    # label_num = len(labels)\n",
        "    # print(label_num)\n",
        "    \n",
        "    labels = set(y_true)\n",
        "    # print(labels)\n",
        "    # recall_list = []\n",
        "\n",
        "    y_true = np.array(y_true)\n",
        "    y_pred = np.array(y_pred)\n",
        "    # y_t = y_true.copy()\n",
        "    # y_p = y_pred.copy()\n",
        "\n",
        "    def calculate_macro_recall(j):\n",
        "\n",
        "    # for j in labels:\n",
        "\n",
        "        # print(\"j: \", j)\n",
        "        y_t = y_true.copy()\n",
        "        y_p = y_pred.copy()\n",
        "        # print(\"y_t: \", set(y_t))\n",
        "        # print(\"y_p: \", set(y_p))\n",
        "        \n",
        "        y_t[y_true == j] = 1\n",
        "        y_p[y_pred == j] = 1\n",
        "\n",
        "        y_t[y_true != j] = 0\n",
        "        y_p[y_pred != j] = 0\n",
        "\n",
        "        # print(\"y_t: \", set(y_t))\n",
        "        # print(\"y_p: \", set(y_p))\n",
        "\n",
        "        tp = np.sum((y_t == 1) & (y_p == 1))\n",
        "        tn = np.sum((y_t == 0) & (y_p == 0))\n",
        "        fp = np.sum((y_t == 0) & (y_p == 1))\n",
        "        fn = np.sum((y_t == 1) & (y_p == 0))\n",
        "\n",
        "        # print(\"tp: \", tp)\n",
        "        # print(\"fn: \", fn)\n",
        "\n",
        "        if (tp + fn) != 0:\n",
        "            recall_i = tp / (tp + fn)\n",
        "        else:\n",
        "            recall_i = 0\n",
        "\n",
        "        # print(recall_i)\n",
        "        # recall_list.append(recall_i)\n",
        "\n",
        "        return recall_i\n",
        "\n",
        "\n",
        "    recall_list = [calculate_macro_recall(j) for j in labels]\n",
        "    # print(recall_list)\n",
        "    \n",
        "    recall_np = np.array(recall_list)\n",
        "\n",
        "    mean_recall = np.mean(recall_np)\n",
        "\n",
        "    return mean_recall"
      ],
      "execution_count": 3,
      "outputs": []
    },
    {
      "cell_type": "code",
      "metadata": {
        "id": "YbsYB8osCGTJ"
      },
      "source": [
        "def Precision(y_true,y_pred):\n",
        "    \"\"\"\n",
        "    :type y_true: numpy.ndarray\n",
        "    :type y_pred: numpy.ndarray\n",
        "    :rtype: float\n",
        "    \"\"\"\n",
        "    \n",
        "    labels = set(y_true)\n",
        "\n",
        "    y_true = np.array(y_true)\n",
        "    y_pred = np.array(y_pred)\n",
        "\n",
        "    def calculate_macro_precision(j):\n",
        "\n",
        "        y_t = y_true.copy()\n",
        "        y_p = y_pred.copy()\n",
        "        \n",
        "        y_t[y_true == j] = 1\n",
        "        y_p[y_pred == j] = 1\n",
        "\n",
        "        y_t[y_true != j] = 0\n",
        "        y_p[y_pred != j] = 0\n",
        "\n",
        "        tp = np.sum((y_t == 1) & (y_p == 1))\n",
        "        tn = np.sum((y_t == 0) & (y_p == 0))\n",
        "        fp = np.sum((y_t == 0) & (y_p == 1))\n",
        "        fn = np.sum((y_t == 1) & (y_p == 0))\n",
        "\n",
        "        if (tp + fp) != 0:\n",
        "            precision_i = tp / (tp + fp)\n",
        "        else:\n",
        "            precision_i = 0\n",
        "\n",
        "        return precision_i\n",
        "\n",
        "\n",
        "    precision_list = [calculate_macro_precision(j) for j in labels]\n",
        "    \n",
        "    precision_np = np.array(precision_list)\n",
        "\n",
        "    mean_precision = np.mean(precision_np)\n",
        "\n",
        "    return mean_precision"
      ],
      "execution_count": 4,
      "outputs": []
    },
    {
      "cell_type": "code",
      "metadata": {
        "id": "uh9yIxPuCo2b"
      },
      "source": [
        "def SklearnSupervisedLearning(X_train,Y_train,X_test,Y_test):\n",
        "    \"\"\"\n",
        "    :type X_train: numpy.ndarray\n",
        "    :type X_test: numpy.ndarray\n",
        "    :type Y_train: numpy.ndarray\n",
        "    :type Y_test: numpy.ndarray\n",
        "    \n",
        "    :rtype: List[numpy.ndarray] \n",
        "    \"\"\"\n",
        "\n",
        "    print('---------------------------------------------------------------------------------------')\n",
        "    svm = SVC(kernel = 'linear')\n",
        "    svm.fit(X_train, Y_train)\n",
        "    y_pred_svm = svm.predict(X_test)\n",
        "    accuracy_svm0 = Accuracy(Y_test, y_pred_svm)\n",
        "    print(\"SVM Accuracy (using our own accuracy function): \", accuracy_svm0)\n",
        "    # accuracy_svm = svm.score(X_test, Y_test)\n",
        "    # print(\"SVM Accuracy: \", accuracy_svm)\n",
        "    \n",
        "    print('---------------------------------------------------------------------------------------')\n",
        "    lg = LogisticRegression()\n",
        "    lg.fit(X_train, Y_train)\n",
        "    y_pred_lg = lg.predict(X_test)\n",
        "    accuracy_lg0 = Accuracy(Y_test, y_pred_lg)\n",
        "    print(\"Logistic Regression Accuracy (using our own accuracy function): \", accuracy_lg0)\n",
        "    # accuracy_lg = lg.score(X_test, Y_test)\n",
        "    # print(\"Logistic Regression Accuracy: \", accuracy_lg)\n",
        "\n",
        "    print('---------------------------------------------------------------------------------------')\n",
        "    dt = DecisionTreeClassifier()\n",
        "    dt.fit(X_train, Y_train)\n",
        "    y_pred_dt = dt.predict(X_test)\n",
        "    accuracy_dt0 = Accuracy(Y_test, y_pred_dt)\n",
        "    print(\"Decision Tree Classifier Accuracy (using our own accuracy function): \", accuracy_dt0)\n",
        "    # accuracy_dt = dt.score(X_test, Y_test)\n",
        "    # print(\"Decision Tree Classifier Accuracy_dt: \", accuracy_dt)\n",
        "\n",
        "    print('---------------------------------------------------------------------------------------')\n",
        "    knn = KNeighborsClassifier()\n",
        "    knn.fit(X_train, Y_train)\n",
        "    y_pred_knn = knn.predict(X_test)\n",
        "    accuracy_knn0 = Accuracy(Y_test, y_pred_knn)\n",
        "    print(\"KNN Accuracy (using our own accuracy function): \", accuracy_knn0)\n",
        "    # accuracy_knn = knn.score(X_test, Y_test)\n",
        "    # print(\"KNN Accuracy: \", accuracy_knn)\n",
        "    print('---------------------------------------------------------------------------------------')\n",
        "\n",
        "\n",
        "    y_pred_list = [y_pred_svm, y_pred_lg, y_pred_dt, y_pred_knn]\n",
        "    # print(y_pred_svm.shape, y_pred_lg.shape, y_pred_dt.shape, y_pred_knn.shape)\n",
        "\n",
        "    return y_pred_list"
      ],
      "execution_count": 5,
      "outputs": []
    },
    {
      "cell_type": "code",
      "metadata": {
        "id": "I7PVOAGaCq1X"
      },
      "source": [
        "def SklearnVotingClassifier(X_train,Y_train,X_test,Y_test):\n",
        "    \n",
        "    \"\"\"\n",
        "    :type X_train: numpy.ndarray\n",
        "    :type X_test: numpy.ndarray\n",
        "    :type Y_train: numpy.ndarray\n",
        "    :type Y_test: numpy.ndarray\n",
        "    \n",
        "    :rtype: List[numpy.ndarray] \n",
        "    \"\"\"\n",
        "\n",
        "    voting = VotingClassifier(estimators=[\n",
        "        (\"svm\", SVC(kernel = 'linear')),\n",
        "        (\"lg\", LogisticRegression()), \n",
        "        (\"dt\", DecisionTreeClassifier()),\n",
        "        (\"knn\", KNeighborsClassifier())], \n",
        "        voting = \"hard\")\n",
        "\n",
        "    voting.fit(X_train, Y_train)\n",
        "    y_pred_voting = voting.predict(X_test)\n",
        "    accuracy_voting0 = Accuracy(Y_test, y_pred_voting)\n",
        "    print('---------------------------------------------------------------------------------------')\n",
        "    print(\"Voting Classifier Accuracy (using our own accuracy function): \", accuracy_voting0)\n",
        "    # accuracy_voting = voting.score(X_test, Y_test)\n",
        "    # print(\"Voting Classifier Accuracy: \", accuracy_voting)\n",
        "\n",
        "    # print(y_pred_voting.shape)\n",
        "    print('---------------------------------------------------------------------------------------')\n",
        "\n",
        "    return y_pred_voting"
      ],
      "execution_count": 6,
      "outputs": []
    },
    {
      "cell_type": "code",
      "metadata": {
        "id": "ns5FpqAuEFBR"
      },
      "source": [
        "def ConfusionMatrix(y_true,y_pred):\n",
        "    \n",
        "    \"\"\"\n",
        "    :type y_true: numpy.ndarray\n",
        "    :type y_pred: numpy.ndarray\n",
        "    :rtype: numpy.ndarray\n",
        "    \"\"\"  \n",
        "\n",
        "    # y_total = np.concatenate(y_true, y_pred)\n",
        "    # print(y_total.shape)\n",
        "    y_total = list(y_pred) + list(y_true)\n",
        "    y_labels = list(set(y_total))\n",
        "    y_labels.sort()\n",
        "\n",
        "    def arrange_row(i0, y_labels0):\n",
        "        y_pred_distribution = y_pred[y_true == i0]\n",
        "        y_pred_num_row = [np.sum(y_pred_distribution == j) for j in y_labels0]\n",
        "\n",
        "        return y_pred_num_row\n",
        "\n",
        "\n",
        "    con_matrix = np.array([arrange_row(i, y_labels) for i in y_labels])\n",
        "\n",
        "    return con_matrix"
      ],
      "execution_count": 7,
      "outputs": []
    },
    {
      "cell_type": "code",
      "metadata": {
        "id": "WljH1zjQEMcK"
      },
      "source": [
        "# Another implementation for confusion matrix\n",
        "def ConfusionMatrix2(y_true,y_pred):\n",
        "    \n",
        "    \"\"\"\n",
        "    :type y_true: numpy.ndarray\n",
        "    :type y_pred: numpy.ndarray\n",
        "    :rtype: numpy.ndarray\n",
        "    \"\"\"  \n",
        "\n",
        "    # y_total = np.con(y_true, y_pred)\n",
        "    y_total = list(y_pred) + list(y_true)\n",
        "    y_labels = list(set(y_total))\n",
        "    y_labels.sort()\n",
        "\n",
        "    def arrange_num(i0, j0):\n",
        "        y_pred_distribution = y_pred[y_true == i0]\n",
        "        y_pred_num = np.sum(y_pred_distribution == j0)\n",
        "\n",
        "        return y_pred_num\n",
        "\n",
        "    con_matrix = np.array([[arrange_num(i, j) for j in y_labels] for i in y_labels])\n",
        "\n",
        "    return con_matrix"
      ],
      "execution_count": 8,
      "outputs": []
    },
    {
      "cell_type": "code",
      "metadata": {
        "id": "hmiyrpHfEZ19"
      },
      "source": [
        "def KNN(X_train,X_test,Y_train, N):\n",
        "    \"\"\"\n",
        "    :type X_train: numpy.ndarray\n",
        "    :type X_test: numpy.ndarray\n",
        "    :type Y_train: numpy.ndarray\n",
        "    :type N: int\n",
        "    \n",
        "    :rtype: numpy.ndarray\n",
        "    \"\"\"\n",
        "    \n",
        "    xy = np.dot(X_test, np.transpose(X_train))\n",
        "    x2 = np.sum(X_test ** 2, axis = 1).reshape(-1, 1)\n",
        "    # print(type(x2))\n",
        "    # print(x2.shape)\n",
        "    y2 = np.sum(X_train ** 2, axis = 1).reshape(1, -1)\n",
        "    # print(type(y2))\n",
        "    # print(y2.shape)\n",
        "    distance_square = -2 * xy + x2 + y2    # number of test * number of train\n",
        "    # print(distance_square.shape)\n",
        "\n",
        "    def nearby_label(each_test_d_list):\n",
        "        nearby_points_index = np.argsort(each_test_d_list)\n",
        "        top_labels = [Y_train[i] for i in nearby_points_index[:N]]\n",
        "        label_selected = Counter(top_labels).most_common(1)[0][0]\n",
        "\n",
        "        return label_selected\n",
        "\n",
        "    y_pred = np.array([nearby_label(each_test_d_list) for each_test_d_list in distance_square])\n",
        "    \n",
        "    # print(y_pred.shape)\n",
        "\n",
        "    return y_pred"
      ],
      "execution_count": 9,
      "outputs": []
    },
    {
      "cell_type": "code",
      "metadata": {
        "id": "sAbY1Iq9FCN7"
      },
      "source": [
        "def PCA(X_train,N):\n",
        "    \"\"\"\n",
        "    :type X_train: numpy.ndarray\n",
        "    :type N: int\n",
        "    :rtype: numpy.ndarray\n",
        "    \"\"\"\n",
        "\n",
        "    # X_mean = np.array([np.mean(X_train[:,i]) for i in range(X_train.shape[1])])\n",
        "    # demean_X = X_train - X_mean\n",
        "    \n",
        "    demean_X = X_train - np.mean(X_train, axis=0)\n",
        "\n",
        "    con_X = np.dot(np.transpose(demean_X), demean_X)\n",
        "\n",
        "    u,sigma,v = np.linalg.svd(con_X)\n",
        "\n",
        "    # print(u)\n",
        "\n",
        "    data = np.dot(demean_X, u[:,:N])\n",
        "    # print(u[:,:N])\n",
        "\n",
        "    return data"
      ],
      "execution_count": 10,
      "outputs": []
    },
    {
      "cell_type": "code",
      "metadata": {
        "id": "8-kOz0GwG4TN"
      },
      "source": [
        "def Confusion_Matrix_Plot(y_pred_SupervisedLearning, y_pred_VotingClassifier, Y_test):\n",
        "    \"\"\"\n",
        "    :type y_pred_SupervisedLearning: List[numpy.ndarray]\n",
        "    :type y_pred_VotingClassifier: numpy.ndarray\n",
        "    :type Y_test: numpy.ndarray\n",
        "    \n",
        "    :rtype: None\n",
        "    \"\"\"\n",
        "\n",
        "    y_pred_svm, y_pred_lg, y_pred_dt, y_pred_knn = y_pred_SupervisedLearning\n",
        "    y_pred_voting = y_pred_VotingClassifier\n",
        "\n",
        "\n",
        "    confusion_matrix_svm = ConfusionMatrix(Y_test, y_pred_svm)\n",
        "    print('------------------------------------------------------------')\n",
        "    print('------------------------------------------------------------')\n",
        "    print('----------SVM Confusion Matrix----------')\n",
        "    print(confusion_matrix_svm)\n",
        "\n",
        "    confusion_matrix_lg = ConfusionMatrix(Y_test, y_pred_lg)\n",
        "    print('------------------------------------------------------------')\n",
        "    print('------------------------------------------------------------')\n",
        "    print('----------Logistic Regression Confusion Matrix----------')\n",
        "    print(confusion_matrix_lg)\n",
        "\n",
        "    confusion_matrix_dt = ConfusionMatrix(Y_test, y_pred_dt)\n",
        "    print('------------------------------------------------------------')\n",
        "    print('------------------------------------------------------------')\n",
        "    print('----------Decision Tree Classifier Confusion Matrix----------')\n",
        "    print(confusion_matrix_dt)\n",
        "\n",
        "    confusion_matrix_knn = ConfusionMatrix(Y_test, y_pred_knn)\n",
        "    print('------------------------------------------------------------')\n",
        "    print('------------------------------------------------------------')\n",
        "    print('----------KNN Confusion Matrix----------')\n",
        "    print(confusion_matrix_knn)\n",
        "\n",
        "    confusion_matrix_voting = ConfusionMatrix(Y_test, y_pred_voting)\n",
        "    print('------------------------------------------------------------')\n",
        "    print('------------------------------------------------------------')\n",
        "    print('----------Voting Classifier Confusion Matrix----------')\n",
        "    print(confusion_matrix_voting)\n",
        "    print('------------------------------------------------------------')\n",
        "    print('------------------------------------------------------------')\n",
        "    print('------------------------------------------------------------')\n",
        "    \n",
        "    \n",
        "    y_labels = list(set(Y_test))\n",
        "    y_labels.sort()\n",
        "    y_labels = list(map(int, y_labels))\n",
        "    # print(type(y_labels))\n",
        "    # print(y_labels)\n",
        "    # print(len(y_labels))\n",
        "    original_index = range(len(y_labels))\n",
        "    # original_index = range(len(confusion_matrix_svm))\n",
        "    title_fontsize = 20\n",
        "    label_fontsize = 12\n",
        "\n",
        "    plt.figure(figsize = (15, 12))\n",
        "\n",
        "    # plt.matshow(confusion_matrix_svm, cmap=plt.cm.Blues)\n",
        "\n",
        "    # SVM\n",
        "    plt.subplot(3,3,2)\n",
        "\n",
        "    plt.imshow(confusion_matrix_svm)\n",
        "\n",
        "\n",
        "    plt.xticks(original_index, y_labels)\n",
        "    plt.yticks(original_index, y_labels)\n",
        "\n",
        "    plt.colorbar()\n",
        "\n",
        "    plt.title(\"SVM\", fontsize = title_fontsize)\n",
        "    plt.ylabel('True Label', fontsize = label_fontsize)\n",
        "    plt.xlabel('Predicted Label', fontsize = label_fontsize)\n",
        "    # plt.imshow(confusion_matrix_svm)\n",
        "\n",
        "    # for first_index in range(len(confusion_matrix_svm)):\n",
        "    #     for second_index in range(len(confusion_matrix_svm[first_index])):\n",
        "    #         plt.text(first_index, second_index, confusion_matrix_svm[second_index][first_index])\n",
        "\n",
        "\n",
        "\n",
        "    # Logistic Regression\n",
        "    plt.subplot(3,3,4)\n",
        "\n",
        "    plt.imshow(confusion_matrix_lg)\n",
        "\n",
        "\n",
        "    plt.xticks(original_index, y_labels)\n",
        "    plt.yticks(original_index, y_labels)\n",
        "\n",
        "    plt.colorbar()\n",
        "\n",
        "    plt.title(\"Logistic Regression\", fontsize = title_fontsize)\n",
        "    plt.ylabel('True Label', fontsize = label_fontsize)\n",
        "    plt.xlabel('Predicted Label', fontsize = label_fontsize)\n",
        "\n",
        "\n",
        "\n",
        "    # Decision Tree Classifier\n",
        "    plt.subplot(3,3,6)\n",
        "\n",
        "    plt.imshow(confusion_matrix_dt)\n",
        "\n",
        "\n",
        "    plt.xticks(original_index, y_labels)\n",
        "    plt.yticks(original_index, y_labels)\n",
        "\n",
        "    plt.colorbar()\n",
        "\n",
        "    plt.title(\"Decision Tree Classifier\", fontsize = title_fontsize)\n",
        "    plt.ylabel('True Label', fontsize = label_fontsize)\n",
        "    plt.xlabel('Predicted Label', fontsize = label_fontsize)\n",
        "\n",
        "\n",
        "\n",
        "    # KNN\n",
        "    plt.subplot(3,3,8)\n",
        "\n",
        "    plt.imshow(confusion_matrix_knn)\n",
        "\n",
        "\n",
        "    plt.xticks(original_index, y_labels)\n",
        "    plt.yticks(original_index, y_labels)\n",
        "\n",
        "    plt.colorbar()\n",
        "\n",
        "    plt.title(\"KNN\", fontsize = title_fontsize)\n",
        "    plt.ylabel('True Label', fontsize = label_fontsize)\n",
        "    plt.xlabel('Predicted Label', fontsize = label_fontsize)\n",
        "\n",
        "\n",
        "\n",
        "    # Voting Classifier\n",
        "    plt.subplot(3,3,5)\n",
        "\n",
        "    plt.imshow(confusion_matrix_voting)\n",
        "\n",
        "\n",
        "    plt.xticks(original_index, y_labels)\n",
        "    plt.yticks(original_index, y_labels)\n",
        "\n",
        "    plt.colorbar()\n",
        "\n",
        "    plt.title(\"Voting Classifier\", fontsize = title_fontsize)\n",
        "    plt.ylabel('True Label', fontsize = label_fontsize)\n",
        "    plt.xlabel('Predicted Label', fontsize = label_fontsize)\n",
        "\n",
        "\n",
        "\n",
        "    plt.tight_layout(h_pad = 3)\n",
        "\n",
        "    plt.show()\n",
        "\n",
        "    return"
      ],
      "execution_count": 11,
      "outputs": []
    },
    {
      "cell_type": "code",
      "metadata": {
        "id": "jBWpFu4EIAXe",
        "colab": {
          "base_uri": "https://localhost:8080/"
        },
        "outputId": "dc459e2a-62b6-4425-e804-3e1a75941c3d"
      },
      "source": [
        "dataset_origin = pd.read_csv(\"./data.csv\")\n",
        "dataset = np.array(dataset_origin)\n",
        "\n",
        "X = dataset[:, :48]\n",
        "y = dataset[:, 48]\n",
        "\n",
        "print(X.shape, y.shape)"
      ],
      "execution_count": 12,
      "outputs": [
        {
          "output_type": "stream",
          "name": "stdout",
          "text": [
            "(40956, 48) (40956,)\n"
          ]
        }
      ]
    },
    {
      "cell_type": "code",
      "metadata": {
        "id": "ed1d69GZIkil",
        "colab": {
          "base_uri": "https://localhost:8080/"
        },
        "outputId": "1ee860e0-5357-4293-ff2f-c69ab82fbe26"
      },
      "source": [
        "X_train, X_test, y_train, y_test = train_test_split(X, y, test_size=0.2)\n",
        "\n",
        "standardScalar = StandardScaler()\n",
        "\n",
        "standardScalar.fit(X_train)\n",
        "X_train_s = standardScalar.transform(X_train)\n",
        "\n",
        "X_test_s = standardScalar.transform(X_test)\n",
        "\n",
        "print(X_train.shape, X_test.shape, y_train.shape, y_test.shape)"
      ],
      "execution_count": 13,
      "outputs": [
        {
          "output_type": "stream",
          "name": "stdout",
          "text": [
            "(32764, 48) (8192, 48) (32764,) (8192,)\n"
          ]
        }
      ]
    },
    {
      "cell_type": "code",
      "metadata": {
        "id": "KSGehuLwJAYu",
        "colab": {
          "base_uri": "https://localhost:8080/"
        },
        "outputId": "6a2ba7e3-d7fd-4d20-cd36-774d995bf1f9"
      },
      "source": [
        "%%time\n",
        "y_pred = KNN(X_train_s, X_test_s, y_train, 5)\n",
        "print(accuracy_score(y_test, y_pred))\n",
        "print(Accuracy(y_test, y_pred))\n",
        "print(Recall(y_test, y_pred))\n",
        "print(Precision(y_test,y_pred))"
      ],
      "execution_count": 14,
      "outputs": [
        {
          "output_type": "stream",
          "name": "stdout",
          "text": [
            "0.810546875\n",
            "0.810546875\n",
            "0.8103601718193122\n",
            "0.8119297478302246\n",
            "CPU times: user 30.9 s, sys: 2.84 s, total: 33.7 s\n",
            "Wall time: 32.6 s\n"
          ]
        }
      ]
    },
    {
      "cell_type": "code",
      "metadata": {
        "id": "jzDflYrOJEDC",
        "colab": {
          "base_uri": "https://localhost:8080/"
        },
        "outputId": "38c2f40c-9baf-46d0-f5d0-224b443975c4"
      },
      "source": [
        "%%time\n",
        "knn_clf = KNeighborsClassifier(n_neighbors=5)\n",
        "knn_clf.fit(X_train_s, y_train)\n",
        "y_predict = knn_clf.predict(X_test_s)\n",
        "print(accuracy_score(y_test, y_predict))\n",
        "print(Accuracy(y_test, y_predict))\n",
        "print(Recall(y_test, y_predict))\n",
        "print(Precision(y_test,y_predict))"
      ],
      "execution_count": 15,
      "outputs": [
        {
          "output_type": "stream",
          "name": "stdout",
          "text": [
            "0.7972412109375\n",
            "0.7972412109375\n",
            "0.7972389177611766\n",
            "0.8003016505893268\n",
            "CPU times: user 7.25 s, sys: 285 ms, total: 7.53 s\n",
            "Wall time: 6.3 s\n"
          ]
        }
      ]
    },
    {
      "cell_type": "code",
      "metadata": {
        "id": "oEFos0zmJLv2",
        "colab": {
          "base_uri": "https://localhost:8080/"
        },
        "outputId": "f1418fac-91d6-4489-a47d-44f9d2256852"
      },
      "source": [
        "%%time\n",
        "y_pred_list_arrays = SklearnSupervisedLearning(X_train_s, y_train, X_test_s, y_test)"
      ],
      "execution_count": 16,
      "outputs": [
        {
          "output_type": "stream",
          "name": "stdout",
          "text": [
            "---------------------------------------------------------------------------------------\n",
            "SVM Accuracy (using our own accuracy function):  0.9296875\n",
            "---------------------------------------------------------------------------------------\n"
          ]
        },
        {
          "output_type": "stream",
          "name": "stderr",
          "text": [
            "/usr/local/lib/python3.7/dist-packages/sklearn/linear_model/_logistic.py:818: ConvergenceWarning: lbfgs failed to converge (status=1):\n",
            "STOP: TOTAL NO. of ITERATIONS REACHED LIMIT.\n",
            "\n",
            "Increase the number of iterations (max_iter) or scale the data as shown in:\n",
            "    https://scikit-learn.org/stable/modules/preprocessing.html\n",
            "Please also refer to the documentation for alternative solver options:\n",
            "    https://scikit-learn.org/stable/modules/linear_model.html#logistic-regression\n",
            "  extra_warning_msg=_LOGISTIC_SOLVER_CONVERGENCE_MSG,\n"
          ]
        },
        {
          "output_type": "stream",
          "name": "stdout",
          "text": [
            "Logistic Regression Accuracy (using our own accuracy function):  0.919921875\n",
            "---------------------------------------------------------------------------------------\n",
            "Decision Tree Classifier Accuracy (using our own accuracy function):  0.979248046875\n",
            "---------------------------------------------------------------------------------------\n",
            "KNN Accuracy (using our own accuracy function):  0.7972412109375\n",
            "---------------------------------------------------------------------------------------\n",
            "CPU times: user 30.3 s, sys: 4.46 s, total: 34.8 s\n",
            "Wall time: 28.4 s\n"
          ]
        }
      ]
    },
    {
      "cell_type": "code",
      "metadata": {
        "colab": {
          "base_uri": "https://localhost:8080/"
        },
        "id": "8YdAtP0SOGTx",
        "outputId": "6f35e645-46e7-4f0b-e2e6-037ca79e2811"
      },
      "source": [
        "%%time\n",
        "y_pred_voting_array = SklearnVotingClassifier(X_train_s, y_train, X_test_s, y_test)"
      ],
      "execution_count": 17,
      "outputs": [
        {
          "output_type": "stream",
          "name": "stderr",
          "text": [
            "/usr/local/lib/python3.7/dist-packages/sklearn/linear_model/_logistic.py:818: ConvergenceWarning: lbfgs failed to converge (status=1):\n",
            "STOP: TOTAL NO. of ITERATIONS REACHED LIMIT.\n",
            "\n",
            "Increase the number of iterations (max_iter) or scale the data as shown in:\n",
            "    https://scikit-learn.org/stable/modules/preprocessing.html\n",
            "Please also refer to the documentation for alternative solver options:\n",
            "    https://scikit-learn.org/stable/modules/linear_model.html#logistic-regression\n",
            "  extra_warning_msg=_LOGISTIC_SOLVER_CONVERGENCE_MSG,\n"
          ]
        },
        {
          "output_type": "stream",
          "name": "stdout",
          "text": [
            "---------------------------------------------------------------------------------------\n",
            "Voting Classifier Accuracy (using our own accuracy function):  0.95263671875\n",
            "---------------------------------------------------------------------------------------\n",
            "CPU times: user 30.5 s, sys: 4.67 s, total: 35.2 s\n",
            "Wall time: 28.5 s\n"
          ]
        }
      ]
    },
    {
      "cell_type": "code",
      "metadata": {
        "id": "hsBF37NHJa9d",
        "colab": {
          "base_uri": "https://localhost:8080/",
          "height": 1000
        },
        "outputId": "11866f26-654a-40eb-e005-a934ac6369ef"
      },
      "source": [
        "Confusion_Matrix_Plot(y_pred_list_arrays, y_pred_voting_array, y_test)"
      ],
      "execution_count": 18,
      "outputs": [
        {
          "output_type": "stream",
          "name": "stdout",
          "text": [
            "------------------------------------------------------------\n",
            "------------------------------------------------------------\n",
            "----------SVM Confusion Matrix----------\n",
            "[[694   0   0   0   0  20   0   0   0   0   0]\n",
            " [  0 670   0   0   0   0   0   0   2  75   0]\n",
            " [  0   0 714   1  22   0   0   0   0   0   0]\n",
            " [  0   0   9 754   5   0   0   0   0   0   0]\n",
            " [  0   0  12  16 598   0   0 108   0   1   0]\n",
            " [ 30   0   3   0   0 644   0   0  65   0   0]\n",
            " [  0   0   0   0   0   0 721   0   0   0   0]\n",
            " [  0   0   0   3  60   0   0 677   0   0   0]\n",
            " [  6   2   1   0   0  53   0   0 683   2   0]\n",
            " [  0  80   0   0   0   0   0   0   0 694   0]\n",
            " [  0   0   0   0   0   0   0   0   0   0 767]]\n",
            "------------------------------------------------------------\n",
            "------------------------------------------------------------\n",
            "----------Logistic Regression Confusion Matrix----------\n",
            "[[689   0   0   0   0  24   0   0   1   0   0]\n",
            " [  0 664   0   0   0   0   0   0   3  80   0]\n",
            " [  0   0 705  10  21   0   0   0   1   0   0]\n",
            " [  0   0  22 720  24   0   2   0   0   0   0]\n",
            " [  0   0  12  24 596   0   0 102   1   0   0]\n",
            " [ 30   0   0   0   1 639   0   0  72   0   0]\n",
            " [  0   0   0   4   0   0 717   0   0   0   0]\n",
            " [  1   0   1   2  66   1   0 669   0   0   0]\n",
            " [  6   5   1   0   0  64   0   0 669   2   0]\n",
            " [  0  72   0   0   0   0   0   0   0 702   0]\n",
            " [  0   0   0   0   0   1   0   0   0   0 766]]\n",
            "------------------------------------------------------------\n",
            "------------------------------------------------------------\n",
            "----------Decision Tree Classifier Confusion Matrix----------\n",
            "[[703   0   0   0   0  10   0   0   1   0   0]\n",
            " [  0 730   0   0   0   0   0   0   1  16   0]\n",
            " [  0   0 729   1   7   0   0   0   0   0   0]\n",
            " [  0   0   2 760   2   0   0   4   0   0   0]\n",
            " [  0   0  14   2 701   0   0  17   0   1   0]\n",
            " [ 12   0   1   0   0 709   0   1  19   0   0]\n",
            " [  0   0   0   0   0   0 721   0   0   0   0]\n",
            " [  0   0   0   2  23   0   0 715   0   0   0]\n",
            " [  6   1   0   0   0   9   0   0 731   0   0]\n",
            " [  0  18   0   0   0   0   0   0   0 756   0]\n",
            " [  0   0   0   0   0   0   0   0   0   0 767]]\n",
            "------------------------------------------------------------\n",
            "------------------------------------------------------------\n",
            "----------KNN Confusion Matrix----------\n",
            "[[565   2   9   1   4 111   0   3  19   0   0]\n",
            " [ 11 572   8   1   0  13   0   0  11 131   0]\n",
            " [ 30   4 620   8  45  18   0   7   3   2   0]\n",
            " [  4   0  39 638  58   4   3  17   5   0   0]\n",
            " [ 13   3  54  80 492  17   0  71   5   0   0]\n",
            " [132   6  28   0  15 530   0   8  22   1   0]\n",
            " [  1   1   1   5   1   1 708   3   0   0   0]\n",
            " [ 22   0   6  58 114  23   0 506  10   1   0]\n",
            " [ 35  11   9   6  12  59   0  25 586   4   0]\n",
            " [  3 203   6   0   0   9   0   1   4 548   0]\n",
            " [  1   0   0   0   0   0   0   0   0   0 766]]\n",
            "------------------------------------------------------------\n",
            "------------------------------------------------------------\n",
            "----------Voting Classifier Confusion Matrix----------\n",
            "[[707   0   0   0   0   7   0   0   0   0   0]\n",
            " [  0 709   0   0   0   0   0   0   1  37   0]\n",
            " [  0   0 730   1   6   0   0   0   0   0   0]\n",
            " [  0   0  15 753   0   0   0   0   0   0   0]\n",
            " [  0   0  11  16 669   0   0  38   0   1   0]\n",
            " [ 31   0   0   0   1 690   0   0  20   0   0]\n",
            " [  0   0   0   1   0   0 720   0   0   0   0]\n",
            " [  0   0   0   2  59   1   0 678   0   0   0]\n",
            " [  6   2   0   0   0  49   0   0 689   1   0]\n",
            " [  0  82   0   0   0   0   0   0   0 692   0]\n",
            " [  0   0   0   0   0   0   0   0   0   0 767]]\n",
            "------------------------------------------------------------\n",
            "------------------------------------------------------------\n",
            "------------------------------------------------------------\n"
          ]
        },
        {
          "output_type": "display_data",
          "data": {
            "image/png": "[encoded data removed]",
            "text/plain": [
              "<Figure size 1080x864 with 10 Axes>"
            ]
          },
          "metadata": {
            "needs_background": "light"
          }
        }
      ]
    },
    {
      "cell_type": "code",
      "metadata": {
        "id": "KKeEEYmSK2pG",
        "colab": {
          "base_uri": "https://localhost:8080/"
        },
        "outputId": "b4fbd471-33a9-44cf-dfc7-d85df2bf65a6"
      },
      "source": [
        "print(PCA(X_train, 4))"
      ],
      "execution_count": 19,
      "outputs": [
        {
          "output_type": "stream",
          "name": "stdout",
          "text": [
            "[[-5.58981672e+00 -8.39665799e-03  5.54223150e-01  4.39699313e+00]\n",
            " [-1.05131021e+01 -2.01464521e-01  6.51482254e-01 -3.79416710e-01]\n",
            " [-1.08625834e+01 -1.93776446e-01  6.24185898e-01 -9.17562215e-01]\n",
            " ...\n",
            " [-9.35677007e+00 -1.82713194e-01  8.72743331e-01  2.20371721e-01]\n",
            " [ 2.38628403e+01  2.11022254e+01 -3.02595871e+00 -9.94940444e+00]\n",
            " [-8.36902471e+00  7.44979690e-01  5.88735465e-01  2.35679939e+00]]\n"
          ]
        }
      ]
    },
    {
      "cell_type": "code",
      "metadata": {
        "colab": {
          "base_uri": "https://localhost:8080/"
        },
        "id": "rfe2G6qeYAr6",
        "outputId": "b60511e5-4de7-4665-e91e-1a698adff1e1"
      },
      "source": [
        "from sklearn.decomposition import PCA\n",
        "pca=PCA(n_components=4)\n",
        "pca.fit(X_train)\n",
        "print(pca.transform(X_train))"
      ],
      "execution_count": 20,
      "outputs": [
        {
          "output_type": "stream",
          "name": "stdout",
          "text": [
            "[[-5.58981672e+00  8.39665799e-03  5.54223150e-01  4.39699313e+00]\n",
            " [-1.05131021e+01  2.01464521e-01  6.51482254e-01 -3.79416710e-01]\n",
            " [-1.08625834e+01  1.93776446e-01  6.24185898e-01 -9.17562215e-01]\n",
            " ...\n",
            " [-9.35677007e+00  1.82713194e-01  8.72743331e-01  2.20371721e-01]\n",
            " [ 2.38628403e+01 -2.11022254e+01 -3.02595871e+00 -9.94940444e+00]\n",
            " [-8.36902471e+00 -7.44979690e-01  5.88735465e-01  2.35679939e+00]]\n"
          ]
        }
      ]
    }
  ]
}