{
  "nbformat": 4,
  "nbformat_minor": 0,
  "metadata": {
    "colab": {
      "name": "Part2.ipynb",
      "provenance": []
    },
    "kernelspec": {
      "display_name": "Python 3",
      "name": "python3"
    },
    "language_info": {
      "name": "python"
    }
  },
  "cells": [
    {
      "cell_type": "code",
      "metadata": {
        "id": "3uGLQ0V0XxeE"
      },
      "source": [
        "import numpy as np\n",
        "from scipy.io import loadmat\n",
        "from scipy.optimize import minimize\n",
        "from sklearn import svm\n",
        "import matplotlib.pyplot as plt\n",
        "\n",
        "from tqdm import tqdm"
      ],
      "execution_count": 1,
      "outputs": []
    },
    {
      "cell_type": "code",
      "metadata": {
        "id": "-9e9EcJyaVVI"
      },
      "source": [
        "def preprocess():\n",
        "    \"\"\" \n",
        "     Input:\n",
        "     Although this function doesn't have any input, you are required to load\n",
        "     the MNIST data set from file 'mnist_all.mat'.\n",
        "\n",
        "     Output:\n",
        "     train_data: matrix of training set. Each row of train_data contains \n",
        "       feature vector of a image\n",
        "     train_label: vector of label corresponding to each image in the training\n",
        "       set\n",
        "     validation_data: matrix of training set. Each row of validation_data \n",
        "       contains feature vector of a image\n",
        "     validation_label: vector of label corresponding to each image in the \n",
        "       training set\n",
        "     test_data: matrix of training set. Each row of test_data contains \n",
        "       feature vector of a image\n",
        "     test_label: vector of label corresponding to each image in the testing\n",
        "       set\n",
        "    \"\"\"\n",
        "\n",
        "    mat = loadmat('mnist_all.mat')  # loads the MAT object as a Dictionary\n",
        "\n",
        "    n_feature = mat.get(\"train1\").shape[1]\n",
        "    n_sample = 0\n",
        "    for i in range(10):\n",
        "        n_sample = n_sample + mat.get(\"train\" + str(i)).shape[0]\n",
        "    n_validation = 1000\n",
        "    n_train = n_sample - 10 * n_validation\n",
        "\n",
        "    # Construct validation data\n",
        "    validation_data = np.zeros((10 * n_validation, n_feature))\n",
        "    for i in range(10):\n",
        "        validation_data[i * n_validation:(i + 1) * n_validation, :] = mat.get(\"train\" + str(i))[0:n_validation, :]\n",
        "\n",
        "    # Construct validation label\n",
        "    validation_label = np.ones((10 * n_validation, 1))\n",
        "    for i in range(10):\n",
        "        validation_label[i * n_validation:(i + 1) * n_validation, :] = i * np.ones((n_validation, 1))\n",
        "\n",
        "    # Construct training data and label\n",
        "    train_data = np.zeros((n_train, n_feature))\n",
        "    train_label = np.zeros((n_train, 1))\n",
        "    temp = 0\n",
        "    for i in range(10):\n",
        "        size_i = mat.get(\"train\" + str(i)).shape[0]\n",
        "        train_data[temp:temp + size_i - n_validation, :] = mat.get(\"train\" + str(i))[n_validation:size_i, :]\n",
        "        train_label[temp:temp + size_i - n_validation, :] = i * np.ones((size_i - n_validation, 1))\n",
        "        temp = temp + size_i - n_validation\n",
        "\n",
        "    # Construct test data and label\n",
        "    n_test = 0\n",
        "    for i in range(10):\n",
        "        n_test = n_test + mat.get(\"test\" + str(i)).shape[0]\n",
        "    test_data = np.zeros((n_test, n_feature))\n",
        "    test_label = np.zeros((n_test, 1))\n",
        "    temp = 0\n",
        "    for i in range(10):\n",
        "        size_i = mat.get(\"test\" + str(i)).shape[0]\n",
        "        test_data[temp:temp + size_i, :] = mat.get(\"test\" + str(i))\n",
        "        test_label[temp:temp + size_i, :] = i * np.ones((size_i, 1))\n",
        "        temp = temp + size_i\n",
        "\n",
        "    # Delete features which don't provide any useful information for classifiers\n",
        "    sigma = np.std(train_data, axis=0)\n",
        "    index = np.array([])\n",
        "    for i in range(n_feature):\n",
        "        if (sigma[i] > 0.001):\n",
        "            index = np.append(index, [i])\n",
        "    train_data = train_data[:, index.astype(int)]\n",
        "    validation_data = validation_data[:, index.astype(int)]\n",
        "    test_data = test_data[:, index.astype(int)]\n",
        "\n",
        "    # Scale data to 0 and 1\n",
        "    train_data /= 255.0\n",
        "    validation_data /= 255.0\n",
        "    test_data /= 255.0\n",
        "\n",
        "    return train_data, train_label, validation_data, validation_label, test_data, test_label"
      ],
      "execution_count": 2,
      "outputs": []
    },
    {
      "cell_type": "code",
      "metadata": {
        "id": "IdVJLd0CahGB"
      },
      "source": [
        "def sigmoid(z):\n",
        "    return 1.0 / (1.0 + np.exp(-z))"
      ],
      "execution_count": 3,
      "outputs": []
    },
    {
      "cell_type": "code",
      "metadata": {
        "id": "CCIfdTWdamxM"
      },
      "source": [
        "def blrObjFunction(initialWeights, *args):\n",
        "    \"\"\"\n",
        "    blrObjFunction computes 2-class Logistic Regression error function and\n",
        "    its gradient.\n",
        "\n",
        "    Input:\n",
        "        initialWeights: the weight vector (w_k) of size (D + 1) x 1 \n",
        "        train_data: the data matrix of size N x D\n",
        "        labeli: the label vector (y_k) of size N x 1 where each entry can be either 0 or 1 representing the label of corresponding feature vector\n",
        "\n",
        "    Output: \n",
        "        error: the scalar value of error function of 2-class logistic regression\n",
        "        error_grad: the vector of size (D+1) x 1 representing the gradient of\n",
        "                    error function\n",
        "    \"\"\"\n",
        "    train_data, labeli = args\n",
        "\n",
        "    n_data = train_data.shape[0]\n",
        "    n_features = train_data.shape[1]\n",
        "    error = 0\n",
        "    error_grad = np.zeros((n_features + 1, 1))\n",
        "\n",
        "    ##################\n",
        "    # YOUR CODE HERE #\n",
        "    ##################\n",
        "    # HINT: Do not forget to add the bias term to your input data\n",
        "\n",
        "    X = np.concatenate((np.ones((n_data, 1)), train_data), axis = 1)\n",
        "    # print(X.shape)\n",
        "    # print(initialWeights.shape)\n",
        "    w = np.array(initialWeights.reshape((n_features + 1, 1)))\n",
        "    error = (-1.0 / n_data) * (np.sum(labeli * np.log(sigmoid(X.dot(w))) + (1.0 - labeli) * np.log(1.0 - sigmoid(X.dot(w)))))\n",
        "    error_grad = (1.0 / n_data) * np.sum((sigmoid(X.dot(w)) - labeli) * X, axis = 0)\n",
        "\n",
        "    return error, error_grad"
      ],
      "execution_count": 4,
      "outputs": []
    },
    {
      "cell_type": "code",
      "metadata": {
        "id": "B9rEtqg-asVC"
      },
      "source": [
        "def blrPredict(W, data):\n",
        "    \"\"\"\n",
        "     blrObjFunction predicts the label of data given the data and parameter W \n",
        "     of Logistic Regression\n",
        "     \n",
        "     Input:\n",
        "         W: the matrix of weight of size (D + 1) x 10. Each column is the weight \n",
        "         vector of a Logistic Regression classifier.\n",
        "         X: the data matrix of size N x D\n",
        "         \n",
        "     Output: \n",
        "         label: vector of size N x 1 representing the predicted label of \n",
        "         corresponding feature vector given in data matrix\n",
        "\n",
        "    \"\"\"\n",
        "    label = np.zeros((data.shape[0], 1))\n",
        "\n",
        "    ##################\n",
        "    # YOUR CODE HERE #\n",
        "    ##################\n",
        "    # HINT: Do not forget to add the bias term to your input data\n",
        "\n",
        "    X = np.concatenate((np.ones((data.shape[0], 1)), data), axis = 1)\n",
        "    # print(X.shape)\n",
        "    # print(W.shape)\n",
        "    label = np.argmax(sigmoid(X.dot(W)), axis = 1)\n",
        "    label = label.reshape((data.shape[0], 1))\n",
        "\n",
        "    return label"
      ],
      "execution_count": 5,
      "outputs": []
    },
    {
      "cell_type": "code",
      "metadata": {
        "id": "rkFg-3qIa2Jk"
      },
      "source": [
        "def mlrObjFunction(params, *args):\n",
        "    \"\"\"\n",
        "    mlrObjFunction computes multi-class Logistic Regression error function and\n",
        "    its gradient.\n",
        "\n",
        "    Input:\n",
        "        initialWeights_b: the weight vector of size (D + 1) x 10\n",
        "        train_data: the data matrix of size N x D\n",
        "        labeli: the label vector of size N x 1 where each entry can be either 0 or 1\n",
        "                representing the label of corresponding feature vector\n",
        "\n",
        "    Output:\n",
        "        error: the scalar value of error function of multi-class logistic regression\n",
        "        error_grad: the vector of size (D+1) x 10 representing the gradient of\n",
        "                    error function\n",
        "    \"\"\"\n",
        "    train_data, labeli = args\n",
        "    n_data = train_data.shape[0]\n",
        "    n_feature = train_data.shape[1]\n",
        "    error = 0\n",
        "    error_grad = np.zeros((n_feature + 1, n_class))\n",
        "\n",
        "    ##################\n",
        "    # YOUR CODE HERE #\n",
        "    ##################\n",
        "    # HINT: Do not forget to add the bias term to your input data\n",
        "\n",
        "    X = np.concatenate((np.ones((n_data, 1)), train_data), axis = 1)\n",
        "    # print(X.shape)\n",
        "    # print(params.shape)\n",
        "    w_b = np.array(params.reshape((n_feature+1, n_class)))\n",
        "    theta = np.exp(X.dot(w_b)) / (np.sum(np.exp(X.dot(w_b)), axis = 1).reshape((train_data.shape[0], 1)))\n",
        "    # print(theta.shape)\n",
        "    # print(labeli.shape)\n",
        "    # print((labeli * np.log(theta)).shape)\n",
        "    # error = -1.0 * np.sum(labeli * np.log(theta))\n",
        "    error = -1.0 * np.sum(np.sum((labeli * np.log(theta)), axis = 1), axis = 0)\n",
        "    error_grad = np.transpose(X).dot(theta - labeli)\n",
        "    # print(error_grad.shape)\n",
        "    error_grad = error_grad.flatten()\n",
        "\n",
        "    return error, error_grad"
      ],
      "execution_count": 6,
      "outputs": []
    },
    {
      "cell_type": "code",
      "metadata": {
        "id": "9fuosbCBa8vc"
      },
      "source": [
        "def mlrPredict(W, data):\n",
        "    \"\"\"\n",
        "     mlrObjFunction predicts the label of data given the data and parameter W\n",
        "     of Logistic Regression\n",
        "\n",
        "     Input:\n",
        "         W: the matrix of weight of size (D + 1) x 10. Each column is the weight\n",
        "         vector of a Logistic Regression classifier.\n",
        "         X: the data matrix of size N x D\n",
        "\n",
        "     Output:\n",
        "         label: vector of size N x 1 representing the predicted label of\n",
        "         corresponding feature vector given in data matrix\n",
        "\n",
        "    \"\"\"\n",
        "    label = np.zeros((data.shape[0], 1))\n",
        "\n",
        "    ##################\n",
        "    # YOUR CODE HERE #\n",
        "    ##################\n",
        "    # HINT: Do not forget to add the bias term to your input data\n",
        "\n",
        "    X = np.concatenate((np.ones((data.shape[0], 1)), data), axis = 1)\n",
        "    # print(X.shape)\n",
        "    # print(W.shape)\n",
        "    theta = np.exp(X.dot(W)) / (np.sum(np.exp(X.dot(W)), axis = 1).reshape((data.shape[0], 1)))\n",
        "    label = np.argmax(theta, axis = 1)\n",
        "    # print(label.shape)\n",
        "    label = label.reshape((data.shape[0], 1))\n",
        "\n",
        "    return label"
      ],
      "execution_count": 7,
      "outputs": []
    },
    {
      "cell_type": "code",
      "metadata": {
        "colab": {
          "base_uri": "https://localhost:8080/"
        },
        "id": "4KhPw5JEbEON",
        "outputId": "db20ab86-2c46-4105-fd6a-f022b1d658b7"
      },
      "source": [
        "\"\"\"\n",
        "Script for Logistic Regression for Binary Classification\n",
        "\"\"\"\n",
        "train_data, train_label, validation_data, validation_label, test_data, test_label = preprocess()\n",
        "\n",
        "# number of classes\n",
        "n_class = 10\n",
        "\n",
        "# number of training samples\n",
        "n_train = train_data.shape[0]\n",
        "\n",
        "# number of features\n",
        "n_feature = train_data.shape[1]\n",
        "\n",
        "Y = np.zeros((n_train, n_class))\n",
        "for i in range(n_class):\n",
        "    Y[:, i] = (train_label == i).astype(int).ravel()\n",
        "\n",
        "# Logistic Regression with Gradient Descent\n",
        "W = np.zeros((n_feature + 1, n_class))\n",
        "initialWeights = np.zeros((n_feature + 1, 1))\n",
        "opts = {'maxiter': 100}\n",
        "for i in tqdm(range(n_class)):\n",
        "    labeli = Y[:, i].reshape(n_train, 1)\n",
        "    args = (train_data, labeli)\n",
        "    nn_params = minimize(blrObjFunction, initialWeights, jac=True, args=args, method='CG', options=opts)\n",
        "    W[:, i] = nn_params.x.reshape((n_feature + 1,))"
      ],
      "execution_count": 8,
      "outputs": [
        {
          "output_type": "stream",
          "name": "stderr",
          "text": [
            "100%|██████████| 10/10 [11:23<00:00, 68.33s/it]\n"
          ]
        }
      ]
    },
    {
      "cell_type": "code",
      "metadata": {
        "id": "9Ate7A-LbVfa",
        "colab": {
          "base_uri": "https://localhost:8080/"
        },
        "outputId": "8bf5c8c1-bedd-444d-957a-3741bb231086"
      },
      "source": [
        "print('\\n------------------- Training Data Set (Logistic Regression for Binary Classification) -------------------')    \n",
        "\n",
        "train_data_order = np.array([[train_data[j] for j in range(len(train_label)) if train_label[j] == i] for i in range(10)])\n",
        "#   separate each category\n",
        "\n",
        "for i in range(10):\n",
        "    train_data_order[i] = np.array(train_data_order[i])    \n",
        "    #   change the <class 'list'> to <class 'numpy.ndarray'>\n",
        "\n",
        "for i in range(10):\n",
        "    predicted_label = blrPredict(W, train_data_order[i])\n",
        "    print('\\n Training set of category ' + str(i) + ' Accuracy: ' + str(100 * np.mean((predicted_label == i).astype(float))) + '%')\n",
        "\n",
        "# Find the accuracy on Training Dataset\n",
        "predicted_label = blrPredict(W, train_data)\n",
        "print('\\n Training set Accuracy:' + str(100 * np.mean((predicted_label == train_label).astype(float))) + '%')"
      ],
      "execution_count": 9,
      "outputs": [
        {
          "output_type": "stream",
          "name": "stdout",
          "text": [
            "\n",
            "------------------- Training Data Set (Logistic Regression for Binary Classification) -------------------\n"
          ]
        },
        {
          "output_type": "stream",
          "name": "stderr",
          "text": [
            "/usr/local/lib/python3.7/dist-packages/ipykernel_launcher.py:3: VisibleDeprecationWarning: Creating an ndarray from ragged nested sequences (which is a list-or-tuple of lists-or-tuples-or ndarrays with different lengths or shapes) is deprecated. If you meant to do this, you must specify 'dtype=object' when creating the ndarray\n",
            "  This is separate from the ipykernel package so we can avoid doing imports until\n"
          ]
        },
        {
          "output_type": "stream",
          "name": "stdout",
          "text": [
            "\n",
            " Training set of category 0 Accuracy: 97.84684135689619%\n",
            "\n",
            " Training set of category 1 Accuracy: 97.91013584117032%\n",
            "\n",
            " Training set of category 2 Accuracy: 91.10528438886648%\n",
            "\n",
            " Training set of category 3 Accuracy: 89.80705515494056%\n",
            "\n",
            " Training set of category 4 Accuracy: 93.90747624948368%\n",
            "\n",
            " Training set of category 5 Accuracy: 88.30581316444244%\n",
            "\n",
            " Training set of category 6 Accuracy: 96.29930866205775%\n",
            "\n",
            " Training set of category 7 Accuracy: 94.33998100664768%\n",
            "\n",
            " Training set of category 8 Accuracy: 87.54895897753042%\n",
            "\n",
            " Training set of category 9 Accuracy: 88.7654071529602%\n",
            "\n",
            " Training set Accuracy:92.716%\n"
          ]
        }
      ]
    },
    {
      "cell_type": "code",
      "metadata": {
        "id": "mGID-7UUbn29",
        "colab": {
          "base_uri": "https://localhost:8080/"
        },
        "outputId": "cccb0f64-8d9c-4cdf-8f7f-b94dff766aab"
      },
      "source": [
        "print('\\n------------------- Validation Data Set (Logistic Regression for Binary Classification) -------------------')\n",
        "\n",
        "validation_data_order = np.array([[validation_data[j] for j in range(len(validation_label)) if validation_label[j] == i] for i in range(10)])\n",
        "#   separate each category\n",
        "\n",
        "for i in range(10):\n",
        "    validation_data_order[i] = np.array(validation_data_order[i])    \n",
        "    #   change the <class 'list'> to <class 'numpy.ndarray'>\n",
        "\n",
        "for i in range(10):\n",
        "    predicted_label = blrPredict(W, validation_data_order[i])\n",
        "    print('\\n Validation set of category ' + str(i) + ' Accuracy: ' + str(100 * np.mean((predicted_label == i).astype(float))) + '%')\n",
        "\n",
        "# Find the accuracy on Validation Dataset\n",
        "predicted_label = blrPredict(W, validation_data)\n",
        "print('\\n Validation set Accuracy:' + str(100 * np.mean((predicted_label == validation_label).astype(float))) + '%')"
      ],
      "execution_count": 10,
      "outputs": [
        {
          "output_type": "stream",
          "name": "stdout",
          "text": [
            "\n",
            "------------------- Validation Data Set (Logistic Regression for Binary Classification) -------------------\n",
            "\n",
            " Validation set of category 0 Accuracy: 97.6%\n",
            "\n",
            " Validation set of category 1 Accuracy: 96.8%\n",
            "\n",
            " Validation set of category 2 Accuracy: 88.0%\n",
            "\n",
            " Validation set of category 3 Accuracy: 88.6%\n",
            "\n",
            " Validation set of category 4 Accuracy: 93.7%\n",
            "\n",
            " Validation set of category 5 Accuracy: 86.8%\n",
            "\n",
            " Validation set of category 6 Accuracy: 95.7%\n",
            "\n",
            " Validation set of category 7 Accuracy: 92.60000000000001%\n",
            "\n",
            " Validation set of category 8 Accuracy: 84.6%\n",
            "\n",
            " Validation set of category 9 Accuracy: 90.0%\n",
            "\n",
            " Validation set Accuracy:91.44%\n"
          ]
        }
      ]
    },
    {
      "cell_type": "code",
      "metadata": {
        "id": "6Mv-s6GZb6V5",
        "colab": {
          "base_uri": "https://localhost:8080/"
        },
        "outputId": "3cad84bc-6995-4bc6-ab13-355298609e21"
      },
      "source": [
        "print('\\n------------------- Testing Data Set (Logistic Regression for Binary Classification) -------------------')\n",
        "\n",
        "test_data_order = np.array([[test_data[j] for j in range(len(test_label)) if test_label[j] == i] for i in range(10)])\n",
        "#   separate each category\n",
        "\n",
        "for i in range(10):\n",
        "    test_data_order[i] = np.array(test_data_order[i])    \n",
        "    #   change the <class 'list'> to <class 'numpy.ndarray'>\n",
        "\n",
        "for i in range(10):\n",
        "    predicted_label = blrPredict(W, test_data_order[i])\n",
        "    print('\\n Testing set of category ' + str(i) + ' Accuracy: ' + str(100 * np.mean((predicted_label == i).astype(float))) + '%')\n",
        "\n",
        "# Find the accuracy on Testing Dataset\n",
        "predicted_label = blrPredict(W, test_data)\n",
        "print('\\n Testing set Accuracy:' + str(100 * np.mean((predicted_label == test_label).astype(float))) + '%')"
      ],
      "execution_count": 11,
      "outputs": [
        {
          "output_type": "stream",
          "name": "stdout",
          "text": [
            "\n",
            "------------------- Testing Data Set (Logistic Regression for Binary Classification) -------------------\n",
            "\n",
            " Testing set of category 0 Accuracy: 98.06122448979592%\n",
            "\n",
            " Testing set of category 1 Accuracy: 98.14977973568281%\n",
            "\n",
            " Testing set of category 2 Accuracy: 89.05038759689923%\n",
            "\n",
            " Testing set of category 3 Accuracy: 91.0891089108911%\n",
            "\n",
            " Testing set of category 4 Accuracy: 93.38085539714868%\n",
            "\n",
            " Testing set of category 5 Accuracy: 85.65022421524664%\n",
            "\n",
            " Testing set of category 6 Accuracy: 94.88517745302714%\n",
            "\n",
            " Testing set of category 7 Accuracy: 92.60700389105058%\n",
            "\n",
            " Testing set of category 8 Accuracy: 87.06365503080082%\n",
            "\n",
            " Testing set of category 9 Accuracy: 89.09811694747275%\n",
            "\n",
            " Testing set Accuracy:92.03%\n"
          ]
        },
        {
          "output_type": "stream",
          "name": "stderr",
          "text": [
            "/usr/local/lib/python3.7/dist-packages/ipykernel_launcher.py:3: VisibleDeprecationWarning: Creating an ndarray from ragged nested sequences (which is a list-or-tuple of lists-or-tuples-or ndarrays with different lengths or shapes) is deprecated. If you meant to do this, you must specify 'dtype=object' when creating the ndarray\n",
            "  This is separate from the ipykernel package so we can avoid doing imports until\n"
          ]
        }
      ]
    },
    {
      "cell_type": "code",
      "metadata": {
        "id": "3QKrs-sIcA94"
      },
      "source": [
        "\"\"\"\n",
        "Script for Logistic Regression for Multiple Classification\n",
        "\"\"\"\n",
        "# FOR EXTRA CREDIT ONLY\n",
        "W_b = np.zeros((n_feature + 1, n_class))\n",
        "initialWeights_b = np.zeros((n_feature + 1, n_class))\n",
        "opts_b = {'maxiter': 100}\n",
        "\n",
        "args_b = (train_data, Y)\n",
        "nn_params = minimize(mlrObjFunction, initialWeights_b, jac=True, args=args_b, method='CG', options=opts_b)\n",
        "W_b = nn_params.x.reshape((n_feature + 1, n_class))"
      ],
      "execution_count": 12,
      "outputs": []
    },
    {
      "cell_type": "code",
      "metadata": {
        "id": "uUrqadqGcdY7",
        "colab": {
          "base_uri": "https://localhost:8080/"
        },
        "outputId": "17cdcaa9-ceb9-4288-d6ab-8299490fedc6"
      },
      "source": [
        "print('\\n------------------- Training Data Set (Logistic Regression for Multiple Classification) -------------------')    \n",
        "\n",
        "train_data_order_b = np.array([[train_data[j] for j in range(len(train_label)) if train_label[j] == i] for i in range(10)])\n",
        "#   separate each category\n",
        "\n",
        "for i in range(10):\n",
        "    train_data_order_b[i] = np.array(train_data_order_b[i])    \n",
        "    #   change the <class 'list'> to <class 'numpy.ndarray'>\n",
        "\n",
        "for i in range(10):\n",
        "    predicted_label_b = mlrPredict(W_b, train_data_order_b[i])\n",
        "    print('\\n Training set of category ' + str(i) + ' Accuracy: ' + str(100 * np.mean((predicted_label_b == i).astype(float))) + '%')\n",
        "\n",
        "# Find the accuracy on Training Dataset\n",
        "predicted_label_b = mlrPredict(W_b, train_data)\n",
        "print('\\n Training set Accuracy:' + str(100 * np.mean((predicted_label_b == train_label).astype(float))) + '%')"
      ],
      "execution_count": 13,
      "outputs": [
        {
          "output_type": "stream",
          "name": "stdout",
          "text": [
            "\n",
            "------------------- Training Data Set (Logistic Regression for Multiple Classification) -------------------\n"
          ]
        },
        {
          "output_type": "stream",
          "name": "stderr",
          "text": [
            "/usr/local/lib/python3.7/dist-packages/ipykernel_launcher.py:3: VisibleDeprecationWarning: Creating an ndarray from ragged nested sequences (which is a list-or-tuple of lists-or-tuples-or ndarrays with different lengths or shapes) is deprecated. If you meant to do this, you must specify 'dtype=object' when creating the ndarray\n",
            "  This is separate from the ipykernel package so we can avoid doing imports until\n"
          ]
        },
        {
          "output_type": "stream",
          "name": "stdout",
          "text": [
            "\n",
            " Training set of category 0 Accuracy: 97.17651838309975%\n",
            "\n",
            " Training set of category 1 Accuracy: 97.47474747474747%\n",
            "\n",
            " Training set of category 2 Accuracy: 90.8229124647035%\n",
            "\n",
            " Training set of category 3 Accuracy: 90.6061196647827%\n",
            "\n",
            " Training set of category 4 Accuracy: 93.82486575795126%\n",
            "\n",
            " Training set of category 5 Accuracy: 89.23320515720425%\n",
            "\n",
            " Training set of category 6 Accuracy: 96.1569743798292%\n",
            "\n",
            " Training set of category 7 Accuracy: 94.22602089268756%\n",
            "\n",
            " Training set of category 8 Accuracy: 89.3630179344465%\n",
            "\n",
            " Training set of category 9 Accuracy: 91.23055162659122%\n",
            "\n",
            " Training set Accuracy:93.122%\n"
          ]
        }
      ]
    },
    {
      "cell_type": "code",
      "metadata": {
        "id": "2-NE861sckBu",
        "colab": {
          "base_uri": "https://localhost:8080/"
        },
        "outputId": "7be8943b-5149-423d-c825-f9ae4e164fd8"
      },
      "source": [
        "print('\\n------------------- Validation Data Set (Logistic Regression for Multiple Classification) -------------------')\n",
        "\n",
        "validation_data_order_b = np.array([[validation_data[j] for j in range(len(validation_label)) if validation_label[j] == i] for i in range(10)])\n",
        "#   separate each category\n",
        "\n",
        "for i in range(10):\n",
        "    validation_data_order_b[i] = np.array(validation_data_order_b[i])    \n",
        "    #   change the <class 'list'> to <class 'numpy.ndarray'>\n",
        "\n",
        "for i in range(10):\n",
        "    predicted_label_b = mlrPredict(W_b, validation_data_order_b[i])\n",
        "    print('\\n Validation set of category ' + str(i) + ' Accuracy: ' + str(100 * np.mean((predicted_label_b == i).astype(float))) + '%')\n",
        "\n",
        "# Find the accuracy on Validation Dataset\n",
        "predicted_label_b = mlrPredict(W_b, validation_data)\n",
        "print('\\n Validation set Accuracy:' + str(100 * np.mean((predicted_label_b == validation_label).astype(float))) + '%')"
      ],
      "execution_count": 14,
      "outputs": [
        {
          "output_type": "stream",
          "name": "stdout",
          "text": [
            "\n",
            "------------------- Validation Data Set (Logistic Regression for Multiple Classification) -------------------\n",
            "\n",
            " Validation set of category 0 Accuracy: 97.8%\n",
            "\n",
            " Validation set of category 1 Accuracy: 97.6%\n",
            "\n",
            " Validation set of category 2 Accuracy: 90.10000000000001%\n",
            "\n",
            " Validation set of category 3 Accuracy: 90.10000000000001%\n",
            "\n",
            " Validation set of category 4 Accuracy: 94.0%\n",
            "\n",
            " Validation set of category 5 Accuracy: 88.9%\n",
            "\n",
            " Validation set of category 6 Accuracy: 95.6%\n",
            "\n",
            " Validation set of category 7 Accuracy: 92.5%\n",
            "\n",
            " Validation set of category 8 Accuracy: 86.2%\n",
            "\n",
            " Validation set of category 9 Accuracy: 92.60000000000001%\n",
            "\n",
            " Validation set Accuracy:92.54%\n"
          ]
        }
      ]
    },
    {
      "cell_type": "code",
      "metadata": {
        "id": "fn0VzMLAcqGH",
        "colab": {
          "base_uri": "https://localhost:8080/"
        },
        "outputId": "3da05e8e-385d-453c-a5da-6d7eac7a9a11"
      },
      "source": [
        "print('\\n------------------- Testing Data Set (Logistic Regression for Multiple Classification) -------------------')\n",
        "\n",
        "test_data_order_b = np.array([[test_data[j] for j in range(len(test_label)) if test_label[j] == i] for i in range(10)])\n",
        "#   separate each category\n",
        "\n",
        "for i in range(10):\n",
        "    test_data_order_b[i] = np.array(test_data_order_b[i])    \n",
        "    #   change the <class 'list'> to <class 'numpy.ndarray'>\n",
        "\n",
        "for i in range(10):\n",
        "    predicted_label_b = mlrPredict(W_b, test_data_order_b[i])\n",
        "    print('\\n Testing set of category ' + str(i) + ' Accuracy: ' + str(100 * np.mean((predicted_label_b == i).astype(float))) + '%')\n",
        "\n",
        "# Find the accuracy on Testing Dataset\n",
        "predicted_label_b = mlrPredict(W_b, test_data)\n",
        "print('\\n Testing set Accuracy:' + str(100 * np.mean((predicted_label_b == test_label).astype(float))) + '%')"
      ],
      "execution_count": 15,
      "outputs": [
        {
          "output_type": "stream",
          "name": "stdout",
          "text": [
            "\n",
            "------------------- Testing Data Set (Logistic Regression for Multiple Classification) -------------------\n",
            "\n",
            " Testing set of category 0 Accuracy: 98.16326530612245%\n",
            "\n",
            " Testing set of category 1 Accuracy: 97.79735682819384%\n",
            "\n",
            " Testing set of category 2 Accuracy: 89.53488372093024%\n",
            "\n",
            " Testing set of category 3 Accuracy: 90.89108910891089%\n",
            "\n",
            " Testing set of category 4 Accuracy: 93.48268839103869%\n",
            "\n",
            " Testing set of category 5 Accuracy: 86.54708520179372%\n",
            "\n",
            " Testing set of category 6 Accuracy: 94.98956158663883%\n",
            "\n",
            " Testing set of category 7 Accuracy: 92.02334630350194%\n",
            "\n",
            " Testing set of category 8 Accuracy: 88.50102669404517%\n",
            "\n",
            " Testing set of category 9 Accuracy: 91.97224975222993%\n",
            "\n",
            " Testing set Accuracy:92.5%\n"
          ]
        },
        {
          "output_type": "stream",
          "name": "stderr",
          "text": [
            "/usr/local/lib/python3.7/dist-packages/ipykernel_launcher.py:3: VisibleDeprecationWarning: Creating an ndarray from ragged nested sequences (which is a list-or-tuple of lists-or-tuples-or ndarrays with different lengths or shapes) is deprecated. If you meant to do this, you must specify 'dtype=object' when creating the ndarray\n",
            "  This is separate from the ipykernel package so we can avoid doing imports until\n"
          ]
        }
      ]
    },
    {
      "cell_type": "code",
      "metadata": {
        "id": "eIBFTNYdcv8d",
        "colab": {
          "base_uri": "https://localhost:8080/"
        },
        "outputId": "424f3cf6-798b-4ab1-d574-94eead93d3b6"
      },
      "source": [
        "\"\"\"\n",
        "Script for Support Vector Machine\n",
        "\"\"\"\n",
        "\n",
        "print('\\n-------------- SVM -------------------\\n')\n",
        "##################\n",
        "# YOUR CODE HERE #\n",
        "##################\n",
        "\n",
        "# print(train_data.shape, train_label.shape, validation_data.shape, validation_label.shape, test_data.shape, test_label.shape)\n",
        "\n",
        "train_indices = np.random.permutation(train_data.shape[0])\n",
        "random_train_data = train_data[train_indices]\n",
        "random_train_label = train_label[train_indices]\n",
        "# print(random_train_data.shape, random_train_label.shape)\n",
        "random_train_data_10k = random_train_data[:10000]\n",
        "random_train_label_10k = random_train_label[:10000]\n",
        "# print(random_train_data_10k.shape, random_train_label_10k.shape)"
      ],
      "execution_count": 16,
      "outputs": [
        {
          "output_type": "stream",
          "name": "stdout",
          "text": [
            "\n",
            "-------------- SVM -------------------\n",
            "\n"
          ]
        }
      ]
    },
    {
      "cell_type": "code",
      "metadata": {
        "id": "qgwsBtLYc43M",
        "colab": {
          "base_uri": "https://localhost:8080/"
        },
        "outputId": "b953d2e7-b39f-4f4b-cca8-fff562f50456"
      },
      "source": [
        "print('1. linear kernel')\n",
        "linear_kernel = svm.SVC(kernel = 'linear')\n",
        "linear_kernel.fit(random_train_data_10k, random_train_label_10k.flatten())\n",
        "print('training data accuracy: ' + str(100 * linear_kernel.score(random_train_data_10k, random_train_label_10k)) + '%')\n",
        "print('validation data accuracy: ' + str(100 * linear_kernel.score(validation_data, validation_label)) + '%')\n",
        "print('testing data accuracy: ' + str(100 * linear_kernel.score(test_data, test_label)) + '%')\n",
        "print('------------------------------------------------------------')\n",
        "\n",
        "print('2. radial basis function, gamma = 1.0')\n",
        "rbf_1 = svm.SVC(kernel = 'rbf', gamma = 1.0)\n",
        "rbf_1.fit(random_train_data_10k, random_train_label_10k.flatten())\n",
        "print('training data accuracy: ' + str(100 * rbf_1.score(random_train_data_10k, random_train_label_10k)) + '%')\n",
        "print('validation data accuracy: ' + str(100 * rbf_1.score(validation_data, validation_label)) + '%')\n",
        "print('testing data accuracy: ' + str(100 * rbf_1.score(test_data, test_label)) + '%')\n",
        "print('------------------------------------------------------------')\n",
        "\n",
        "print('3. radial basis function, gamma = default')\n",
        "rbf_default = svm.SVC(kernel = 'rbf', gamma = 'auto')\n",
        "\n",
        "# FutureWarning: The default value of gamma will change from 'auto' to 'scale' in version 0.22 to account better for unscaled features. \n",
        "# Set gamma explicitly to 'auto' or 'scale' to avoid this warning.\n",
        "# \"avoid this warning.\", FutureWarning)\n",
        "\n",
        "rbf_default.fit(random_train_data_10k, random_train_label_10k.flatten())\n",
        "print('training data accuracy: ' + str(100 * rbf_default.score(random_train_data_10k, random_train_label_10k)) + '%')\n",
        "print('validation data accuracy: ' + str(100 * rbf_default.score(validation_data, validation_label)) + '%')\n",
        "print('testing data accuracy: ' + str(100 * rbf_default.score(test_data, test_label)) + '%')\n",
        "print('------------------------------------------------------------')"
      ],
      "execution_count": 17,
      "outputs": [
        {
          "output_type": "stream",
          "name": "stdout",
          "text": [
            "1. linear kernel\n",
            "training data accuracy: 99.63%\n",
            "validation data accuracy: 92.03%\n",
            "testing data accuracy: 91.5%\n",
            "------------------------------------------------------------\n",
            "2. radial basis function, gamma = 1.0\n",
            "training data accuracy: 100.0%\n",
            "validation data accuracy: 16.009999999999998%\n",
            "testing data accuracy: 17.93%\n",
            "------------------------------------------------------------\n",
            "3. radial basis function, gamma = default\n",
            "training data accuracy: 92.99%\n",
            "validation data accuracy: 92.13%\n",
            "testing data accuracy: 92.47999999999999%\n",
            "------------------------------------------------------------\n"
          ]
        }
      ]
    },
    {
      "cell_type": "code",
      "metadata": {
        "id": "XmOGm5cidQz_",
        "colab": {
          "base_uri": "https://localhost:8080/"
        },
        "outputId": "963d0d94-8299-4732-8868-19c3b30a1d91"
      },
      "source": [
        "print('4. radial basis function, gamma = default, varying value of C')\n",
        "\n",
        "training_data_score = np.zeros(11)\n",
        "validation_data_score = np.zeros(11)\n",
        "testing_data_score = np.zeros(11)\n",
        "c = np.array([1.0, 10.0, 20.0, 30.0, 40.0, 50.0, 60.0, 70.0, 80.0, 90.0, 100.0])\n",
        "\n",
        "for i in tqdm(range(11)):\n",
        "    rbf_default_c = svm.SVC(C = c[i], kernel = 'rbf', gamma = 'auto')\n",
        "    rbf_default_c.fit(random_train_data_10k, random_train_label_10k.flatten())\n",
        "    training_data_score[i] = rbf_default_c.score(random_train_data_10k, random_train_label_10k)\n",
        "    validation_data_score[i] = rbf_default_c.score(validation_data, validation_label)\n",
        "    testing_data_score[i] = rbf_default_c.score(test_data, test_label)\n",
        "\n",
        "print('------------------------------------------------------------')\n",
        "\n",
        "for i in range(11):\n",
        "    print('C = ' + str(c[i]) + ', training data accuracy: ' + str(100 * training_data_score[i]) + '%')\n",
        "    print('C = ' + str(c[i]) + ', validation data accuracy: ' + str(100 * validation_data_score[i]) + '%')\n",
        "    print('C = ' + str(c[i]) + ', testing data accuracy: ' + str(100 * testing_data_score[i]) + '%')\n",
        "    print('------------------------------------------------------------')"
      ],
      "execution_count": 18,
      "outputs": [
        {
          "output_type": "stream",
          "name": "stdout",
          "text": [
            "4. radial basis function, gamma = default, varying value of C\n"
          ]
        },
        {
          "output_type": "stream",
          "name": "stderr",
          "text": [
            "100%|██████████| 11/11 [13:24<00:00, 73.10s/it]"
          ]
        },
        {
          "output_type": "stream",
          "name": "stdout",
          "text": [
            "------------------------------------------------------------\n",
            "C = 1.0, training data accuracy: 92.99%\n",
            "C = 1.0, validation data accuracy: 92.13%\n",
            "C = 1.0, testing data accuracy: 92.47999999999999%\n",
            "------------------------------------------------------------\n",
            "C = 10.0, training data accuracy: 96.59%\n",
            "C = 10.0, validation data accuracy: 94.21000000000001%\n",
            "C = 10.0, testing data accuracy: 94.22%\n",
            "------------------------------------------------------------\n",
            "C = 20.0, training data accuracy: 97.76%\n",
            "C = 20.0, validation data accuracy: 94.59%\n",
            "C = 20.0, testing data accuracy: 94.72%\n",
            "------------------------------------------------------------\n",
            "C = 30.0, training data accuracy: 98.41%\n",
            "C = 30.0, validation data accuracy: 94.78999999999999%\n",
            "C = 30.0, testing data accuracy: 94.77%\n",
            "------------------------------------------------------------\n",
            "C = 40.0, training data accuracy: 98.75%\n",
            "C = 40.0, validation data accuracy: 94.85%\n",
            "C = 40.0, testing data accuracy: 94.76%\n",
            "------------------------------------------------------------\n",
            "C = 50.0, training data accuracy: 99.03%\n",
            "C = 50.0, validation data accuracy: 94.85%\n",
            "C = 50.0, testing data accuracy: 94.72%\n",
            "------------------------------------------------------------\n",
            "C = 60.0, training data accuracy: 99.27%\n",
            "C = 60.0, validation data accuracy: 94.86%\n",
            "C = 60.0, testing data accuracy: 94.62%\n",
            "------------------------------------------------------------\n",
            "C = 70.0, training data accuracy: 99.49%\n",
            "C = 70.0, validation data accuracy: 94.85%\n",
            "C = 70.0, testing data accuracy: 94.59%\n",
            "------------------------------------------------------------\n",
            "C = 80.0, training data accuracy: 99.63%\n",
            "C = 80.0, validation data accuracy: 94.85%\n",
            "C = 80.0, testing data accuracy: 94.59%\n",
            "------------------------------------------------------------\n",
            "C = 90.0, training data accuracy: 99.77000000000001%\n",
            "C = 90.0, validation data accuracy: 94.78999999999999%\n",
            "C = 90.0, testing data accuracy: 94.64%\n",
            "------------------------------------------------------------\n",
            "C = 100.0, training data accuracy: 99.82%\n",
            "C = 100.0, validation data accuracy: 94.73%\n",
            "C = 100.0, testing data accuracy: 94.72%\n",
            "------------------------------------------------------------\n"
          ]
        },
        {
          "output_type": "stream",
          "name": "stderr",
          "text": [
            "\n"
          ]
        }
      ]
    },
    {
      "cell_type": "code",
      "metadata": {
        "id": "ikHHq4AXdXcz",
        "colab": {
          "base_uri": "https://localhost:8080/",
          "height": 295
        },
        "outputId": "57f42b56-db64-4a8d-87ec-551048206b57"
      },
      "source": [
        "plt.plot(c, training_data_score, marker = 'o', color = 'g', label = 'Training Data Accuracy')\n",
        "plt.plot(c, validation_data_score, marker = 'v', color = 'r', label = 'Validation Data Accuracy')\n",
        "plt.plot(c, testing_data_score, marker = 'x', color = 'c', label = 'Testing Data Accuracy')\n",
        "\n",
        "plt.title('Accuracies of Radial Basis Function with Variable Values of C')\n",
        "plt.legend()\n",
        "plt.ylabel('Accuracy')\n",
        "plt.xlabel('Values of C')\n",
        "\n",
        "plt.show()"
      ],
      "execution_count": 19,
      "outputs": [
        {
          "output_type": "display_data",
          "data": {
            "image/png": "[encoded data removed]",
            "text/plain": [
              "<Figure size 432x288 with 1 Axes>"
            ]
          },
          "metadata": {
            "needs_background": "light"
          }
        }
      ]
    },
    {
      "cell_type": "code",
      "metadata": {
        "id": "t5323XiSdhkW",
        "colab": {
          "base_uri": "https://localhost:8080/"
        },
        "outputId": "726dbee5-24a4-4b7e-9a88-922d81c2899c"
      },
      "source": [
        "print('choose the best choice of parameters, and train with the whole training dataset and report the accuracy.')\n",
        "rbf_default_c_optimal = svm.SVC(C = 30.0, kernel = 'rbf', gamma = 'auto')\n",
        "rbf_default_c_optimal.fit(train_data, train_label.flatten())\n",
        "\n",
        "print('training data accuracy: ' + str(100 * rbf_default_c_optimal.score(train_data, train_label)) + '%')\n",
        "print('validation data accuracy: ' + str(100 * rbf_default_c_optimal.score(validation_data, validation_label)) + '%')\n",
        "print('testing data accuracy: ' + str(100 * rbf_default_c_optimal.score(test_data, test_label)) + '%')"
      ],
      "execution_count": 20,
      "outputs": [
        {
          "output_type": "stream",
          "name": "stdout",
          "text": [
            "choose the best choice of parameters, and train with the whole training dataset and report the accuracy.\n",
            "training data accuracy: 98.372%\n",
            "validation data accuracy: 97.1%\n",
            "testing data accuracy: 97.04%\n"
          ]
        }
      ]
    }
  ]
}